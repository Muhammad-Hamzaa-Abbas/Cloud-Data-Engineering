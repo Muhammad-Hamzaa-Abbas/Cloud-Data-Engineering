{
 "cells": [
  {
   "cell_type": "markdown",
   "metadata": {},
   "source": [
    "# Part -1 Python Basics (Variables)"
   ]
  },
  {
   "cell_type": "markdown",
   "metadata": {},
   "source": [
    "1. Print Your Name with your Father name and Date of birth using suitable escape sequence charactor"
   ]
  },
  {
   "cell_type": "code",
   "execution_count": 4,
   "metadata": {},
   "outputs": [
    {
     "name": "stdout",
     "output_type": "stream",
     "text": [
      " Name:Muhammad Hamza Abbas\n",
      " F/Name:S M Zafar Ahmed\n",
      " Birth: 1st May 2006\n"
     ]
    }
   ],
   "source": [
    "print(\" Name:Muhammad Hamza Abbas\\n F/Name:S M Zafar Ahmed\\n Birth: 1st May 2006\")"
   ]
  },
  {
   "cell_type": "markdown",
   "metadata": {},
   "source": [
    "2. Write your small bio using variables and print it using print function"
   ]
  },
  {
   "cell_type": "code",
   "execution_count": 5,
   "metadata": {},
   "outputs": [
    {
     "name": "stdout",
     "output_type": "stream",
     "text": [
      "Bio:I am Hamza, passionate about Cloud Computing, AI, and problem-solving. I thrive on learning new technologies and building innovative solutions. My goal is to excel in the tech industry and make a lasting impact. \n"
     ]
    }
   ],
   "source": [
    "print(\"Bio:I am Hamza, passionate about Cloud Computing, AI, and problem-solving. I thrive on learning new technologies and building innovative solutions. My goal is to excel in the tech industry and make a lasting impact. \")"
   ]
  },
  {
   "cell_type": "markdown",
   "metadata": {},
   "source": [
    "3. Write a program in which use all the operators we can use in Python"
   ]
  },
  {
   "cell_type": "code",
   "execution_count": 1,
   "metadata": {},
   "outputs": [
    {
     "name": "stdout",
     "output_type": "stream",
     "text": [
      "Arithmetic Operators:\n",
      "13\n",
      "10\n",
      "30\n",
      "10.0\n",
      "3.0\n",
      "0.0\n",
      "0.0\n",
      "\n",
      "Comparison Operators:\n",
      "True\n",
      "True\n",
      "True\n"
     ]
    }
   ],
   "source": [
    "a = 10\n",
    "b = 3\n",
    "# Arithmetic Operations\n",
    "print(\"Arithmetic Operators:\")\n",
    "a = a + b\n",
    "print(a)  # Addition\n",
    "\n",
    "a = a - b\n",
    "print(a)  # Subtraction\n",
    "\n",
    "a = a * b\n",
    "print(a)  # Multiplication\n",
    "\n",
    "a = a / b\n",
    "print(a)  # Division\n",
    "\n",
    "a = a // b\n",
    "print(a)  # Floor Division\n",
    "\n",
    "a = a % b\n",
    "print(a)  # Modulus\n",
    "\n",
    "a = a ** b\n",
    "print(a)  # Exponentiation\n",
    "\n",
    "# Comparison Operations\n",
    "print(\"\\nComparison Operators:\")\n",
    "\n",
    "if a == b:\n",
    "    print(\"True\")  # Equal\n",
    "\n",
    "if a != b:\n",
    "    print(\"True\")  # Not Equal\n",
    "\n",
    "if a > b:\n",
    "    print(\"True\")  # Greater Than\n",
    "\n",
    "if a < b:\n",
    "    print(\"True\")  # Less Than\n",
    "\n",
    "if a >= b:\n",
    "    print(\"True\")  # Greater or Equal\n",
    "\n",
    "if a <= b:\n",
    "    print(\"True\")  # Less or Equal\n",
    "\n"
   ]
  },
  {
   "cell_type": "markdown",
   "metadata": {},
   "source": [
    "4. Completes the following steps of small task:\n",
    "    - Mention Marks of English , Islamiat and Maths out of 100 in 3 different variables\n",
    "    - Mention Variable of Total Marks and assign 300 to it\n",
    "    - Calculate Percentage"
   ]
  },
  {
   "cell_type": "code",
   "execution_count": 6,
   "metadata": {},
   "outputs": [
    {
     "name": "stdout",
     "output_type": "stream",
     "text": [
      "Percentage: 83.33333333333334 %\n"
     ]
    }
   ],
   "source": [
    "English=74\n",
    "Islamiat=78\n",
    "Maths=98\n",
    "Obtained_Marks=English+Islamiat+Maths\n",
    "Total_Marks=300\n",
    "Percentage=(Obtained_Marks/Total_Marks)*100\n",
    "print(\"Percentage:\", Percentage,\"%\")"
   ]
  },
  {
   "cell_type": "markdown",
   "metadata": {},
   "source": [
    "# Part -2 Python Basics (Conditional Statements)"
   ]
  },
  {
   "cell_type": "markdown",
   "metadata": {},
   "source": [
    "1) A company decided to give bonus of 5% to employee if his/her year of service is more than 5 years.\n",
    "Ask user for their salary and year of service and print the net bonus amount."
   ]
  },
  {
   "cell_type": "code",
   "execution_count": 15,
   "metadata": {},
   "outputs": [
    {
     "name": "stdout",
     "output_type": "stream",
     "text": [
      "Congratulations, You just get the bonus for delivering 5 year of service, Bonus: 1000.0\n"
     ]
    }
   ],
   "source": [
    "Salary=float(input(\"Enter your Salary:\"))\n",
    "Yearsof_Service=int(input(\"Enter your years of service\"))\n",
    "if(Yearsof_Service>5):\n",
    "    bonus=Salary*0.05  #bonus \n",
    "    print(\"Congratulations, You just get the bonus for delivering 5 year of service, Bonus:\", bonus)\n",
    "else:\n",
    "    print(\"Sorry,Only people(employee) with five years of service are availabe.\")"
   ]
  },
  {
   "cell_type": "markdown",
   "metadata": {},
   "source": [
    "\n",
    "2) Write a program to check whether a person is eligible for voting or not. (accept age from user) if age is greater than 17 eligible otherwise not eligible"
   ]
  },
  {
   "cell_type": "code",
   "execution_count": 16,
   "metadata": {},
   "outputs": [
    {
     "name": "stdout",
     "output_type": "stream",
     "text": [
      "Eligible to vote\n"
     ]
    }
   ],
   "source": [
    "Voter=18\n",
    "if Voter>17:\n",
    "    print(\"Eligible to vote\")\n",
    "else:\n",
    "    print(\"Not Eligible yet\")"
   ]
  },
  {
   "cell_type": "markdown",
   "metadata": {},
   "source": [
    "\n",
    "3) Write a program to check whether a number entered by user is even or odd."
   ]
  },
  {
   "cell_type": "code",
   "execution_count": 17,
   "metadata": {},
   "outputs": [
    {
     "name": "stdout",
     "output_type": "stream",
     "text": [
      "Odd Number\n"
     ]
    }
   ],
   "source": [
    "Number=35\n",
    "if Number%2==0:\n",
    "  print(\"Even Number\")\n",
    "else:\n",
    "  print(\"Odd Number\")"
   ]
  },
  {
   "cell_type": "markdown",
   "metadata": {},
   "source": [
    "4) Write a program to check whether a number is divisible by 7 or not.\n",
    "Show Answer"
   ]
  },
  {
   "cell_type": "code",
   "execution_count": 18,
   "metadata": {},
   "outputs": [
    {
     "name": "stdout",
     "output_type": "stream",
     "text": [
      "35\n"
     ]
    }
   ],
   "source": [
    "Number=35\n",
    "if Number%7==0:\n",
    "    print(Number)\n",
    "else:\n",
    "    print(\"Not divisible by 7\")"
   ]
  },
  {
   "cell_type": "markdown",
   "metadata": {},
   "source": [
    "5) Write a program to display \n",
    "\"Hello\" if a number entered by user is a multiple of five , otherwise print \"Bye\"."
   ]
  },
  {
   "cell_type": "code",
   "execution_count": 19,
   "metadata": {},
   "outputs": [
    {
     "name": "stdout",
     "output_type": "stream",
     "text": [
      "Hello\n"
     ]
    }
   ],
   "source": [
    "Number=100\n",
    "if(Number%5==0):\n",
    "  print(\"Hello\")\n",
    "else:\n",
    "   print(\"Bye\")"
   ]
  },
  {
   "cell_type": "markdown",
   "metadata": {},
   "source": [
    "7) Write a program to display the last digit of a number.\n"
   ]
  },
  {
   "cell_type": "code",
   "execution_count": 20,
   "metadata": {},
   "outputs": [
    {
     "name": "stdout",
     "output_type": "stream",
     "text": [
      "Last Digit:  6\n"
     ]
    }
   ],
   "source": [
    "Number=646\n",
    "Number=Number%10\n",
    "print(\"Last Digit: \", Number)"
   ]
  },
  {
   "cell_type": "markdown",
   "metadata": {},
   "source": [
    "9) Take values of length and breadth of a rectangle from user and print if it is square or rectangle."
   ]
  },
  {
   "cell_type": "code",
   "execution_count": 21,
   "metadata": {},
   "outputs": [
    {
     "name": "stdout",
     "output_type": "stream",
     "text": [
      "Square\n"
     ]
    }
   ],
   "source": [
    "Length=8\n",
    "Breadth=8\n",
    "if(Length==Breadth):\n",
    "    print(\"Square\")\n",
    "else:\n",
    "    print(\"Rectangle\")\n"
   ]
  },
  {
   "cell_type": "markdown",
   "metadata": {},
   "source": [
    "10) Take two int values from user and print greatest among them."
   ]
  },
  {
   "cell_type": "code",
   "execution_count": 22,
   "metadata": {},
   "outputs": [
    {
     "name": "stdout",
     "output_type": "stream",
     "text": [
      "4\n"
     ]
    }
   ],
   "source": [
    "a=4\n",
    "b=2\n",
    "if(a>b):\n",
    "    print(a)\n",
    "else:\n",
    "    print(b)\n"
   ]
  },
  {
   "cell_type": "markdown",
   "metadata": {},
   "source": [
    "11) A shop will give discount of 10% if the cost of purchased quantity is more than 1000.\n",
    "Ask user for quantity\n",
    "Suppose, one unit will cost 100.\n",
    "Judge and print total cost for user."
   ]
  },
  {
   "cell_type": "code",
   "execution_count": 23,
   "metadata": {},
   "outputs": [
    {
     "name": "stdout",
     "output_type": "stream",
     "text": [
      "Total Cost before Discount: 2380\n",
      "Discount: 238.0\n",
      "Total Cost after Discount: 2142.0\n"
     ]
    }
   ],
   "source": [
    "quantity=int(input( \"Kindly input the quantity:\" ))\n",
    "price=70\n",
    "totalcost=price*quantity\n",
    "print(\"Total Cost before Discount:\", totalcost)\n",
    "if totalcost>1000:\n",
    "    discount=totalcost*0.10\n",
    "    totalcost -= discount\n",
    "    print(\"Discount:\", discount)\n",
    "    print(\"Total Cost after Discount:\", totalcost)\n",
    "\n"
   ]
  },
  {
   "cell_type": "markdown",
   "metadata": {},
   "source": [
    "12) A school has following rules for grading system:\n",
    "\n",
    "a. Below 25 - F\n",
    "\n",
    "b. 25 to 45 - E\n",
    "\n",
    "c. 45 to 50 - D\n",
    "\n",
    "d. 50 to 60 - C\n",
    "\n",
    "e. 60 to 80 - B\n",
    "f. Above 80 - A\n",
    "\n",
    "Ask user to enter marks and print the corresponding grade."
   ]
  },
  {
   "cell_type": "code",
   "execution_count": 24,
   "metadata": {},
   "outputs": [
    {
     "name": "stdout",
     "output_type": "stream",
     "text": [
      "Grade: E\n"
     ]
    }
   ],
   "source": [
    "marks=int(input(\"Enter your marks:\"))\n",
    "if marks>100 or marks<0:\n",
    "  print(\"The grade must be under 0 to 100 or even 100.\")\n",
    "elif marks<25:\n",
    "    print(\"Grade: F\")\n",
    "elif marks in range(25,45):\n",
    "  print(\"Grade: E\")\n",
    "elif marks in range(45,50):\n",
    "  print(\"Grade: D\")\n",
    "elif   marks in range(50,60):\n",
    "  print(\"Grade: C\")\n",
    "elif marks in range(60,80):\n",
    "  print(\"Grade: B\")\n",
    "else:\n",
    "  print(\"Grade: A\")\n",
    " \n",
    " \n",
    "  \n",
    "\n",
    " "
   ]
  },
  {
   "cell_type": "markdown",
   "metadata": {},
   "source": [
    "14)A student will not be allowed to sit in exam if his/her attendence is less than 75%.\n",
    "\n",
    "Take following input from user\n",
    "\n",
    "- Number of classes held\n",
    "\n",
    "- Number of classes attended.\n",
    "\n",
    "And print\n",
    "\n",
    "- percentage of class attended\n",
    "\n",
    "- Is student is allowed to sit in exam or not.\n"
   ]
  },
  {
   "cell_type": "code",
   "execution_count": 25,
   "metadata": {},
   "outputs": [
    {
     "name": "stdout",
     "output_type": "stream",
     "text": [
      "No of class attended: 37.5 %\n",
      "Not Eligible to sit in exams.\n"
     ]
    }
   ],
   "source": [
    "classheld=int(input(\"Number of classes held:\"))\n",
    "classattend=int(input(\"Number of classes attended:\"))\n",
    "attendance=(classattend/classheld)*100\n",
    "print(\"No of class attended:\", attendance, \"%\")\n",
    "if attendance>=75:\n",
    "    print(\"Eligible to sit in the exams.\")\n",
    "else:\n",
    "    print(\"Not Eligible to sit in exams.\")"
   ]
  },
  {
   "cell_type": "markdown",
   "metadata": {},
   "source": [
    "15) Modify the above question to allow student to sit if he/she has medical cause. Ask user if he/she has medical cause or not ( 'Y' or 'N' ) and print accordingly."
   ]
  },
  {
   "cell_type": "code",
   "execution_count": 26,
   "metadata": {},
   "outputs": [
    {
     "name": "stdout",
     "output_type": "stream",
     "text": [
      "Not Eligible to sit in exams.\n"
     ]
    }
   ],
   "source": [
    "attendance=int(input(\"Kindly enter your Attendance:\"))\n",
    "medical_cause=str(input(\"Have any medical issue(cause),if any(Y,N)\"))\n",
    "if attendance>=75 or medical_cause=='Y':\n",
    "    print(\"Eligible to sit in the exams.\")\n",
    "else:\n",
    "    print(\"Not Eligible to sit in exams.\")"
   ]
  },
  {
   "cell_type": "markdown",
   "metadata": {},
   "source": [
    "16) Write a program to check if a year is leap year or not.\n",
    "\n",
    "If a year is divisible by 4 then it is leap year but if the year is century year like 2000, 1900, 2100 then it must be divisible by 400."
   ]
  },
  {
   "cell_type": "code",
   "execution_count": 27,
   "metadata": {},
   "outputs": [
    {
     "name": "stdout",
     "output_type": "stream",
     "text": [
      "This is leap year.\n"
     ]
    }
   ],
   "source": [
    "year=int(input(\"Enter any year to check wheather it is leap year or not:\"))\n",
    "if (year%4==0 and year!=100) or (year%400==0):\n",
    "    print(\"This is leap year.\")\n",
    "else:\n",
    "    print(\"This is not leap year.\")"
   ]
  },
  {
   "cell_type": "markdown",
   "metadata": {},
   "source": [
    "17) Ask user to enter age, gender ( M or F ), marital status ( Y or N ) and then using following rules print their place of service.\n",
    "\n",
    "if employee is female, then she will work only in urban areas.\n",
    "\n",
    "if employee is a male and age is in between 20 to 40 then he may work in anywhere\n",
    "\n",
    "if employee is male and age is in between 40 t0 60 then he will work in urban areas only.\n",
    "\n",
    "And any other input of age should print \"ERROR\""
   ]
  },
  {
   "cell_type": "code",
   "execution_count": 3,
   "metadata": {},
   "outputs": [
    {
     "name": "stdout",
     "output_type": "stream",
     "text": [
      "You may work anywhere.\n"
     ]
    }
   ],
   "source": [
    "age = int(input(\"Enter your age: \"))  \n",
    "gender = input(\"Enter your gender (M/F): \")\n",
    "marital_status = input(\"Are you married? (Y/N): \")\n",
    "if gender == 'F':  \n",
    "    print(\"You will work only in urban areas.\")  \n",
    "elif gender == 'M':  \n",
    "    if 20 <= age <= 40:  \n",
    "        print(\"You may work anywhere.\")  \n",
    "    elif 40 < age <= 60:  \n",
    "        print(\"You will work only in urban areas.\")  \n",
    "    else:  \n",
    "        print(\"ERROR\")  \n",
    "else:  \n",
    "    print(\"Invalid gender input!\")  \n"
   ]
  },
  {
   "cell_type": "markdown",
   "metadata": {},
   "source": [
    "6) Write a program to calculate the electricity bill (accept number of unit from user) according to the following criteria :\n",
    "     Unit                                                     Price  \n",
    "uptp 100 units                                             no charge\n",
    "Next 200 units                                              Rs 5 per unit\n",
    "After 200 units                                             Rs 10 per unit\n",
    "(For example if input unit is 350 than total bill amount is Rs.3500\n",
    "(For example if input unit is 97 than total bill amount is Rs.0\n",
    "(For example if input unit is 150 than total bill amount is Rs.750"
   ]
  },
  {
   "cell_type": "markdown",
   "metadata": {},
   "source": [
    "13) Take input of age of 3 people by user and determine oldest and youngest among them."
   ]
  },
  {
   "cell_type": "code",
   "execution_count": 1,
   "metadata": {},
   "outputs": [
    {
     "name": "stdout",
     "output_type": "stream",
     "text": [
      "Oldest person is: 43\n",
      "Youngest person is: 23\n"
     ]
    }
   ],
   "source": [
    "age1 = int(input(\"Enter age of first person: \"))  \n",
    "age2 = int(input(\"Enter age of second person: \"))  \n",
    "age3 = int(input(\"Enter age of third person: \"))  \n",
    "\n",
    "oldest = max(age1, age2, age3)  \n",
    "youngest = min(age1, age2, age3)  \n",
    "\n",
    "print(\"Oldest person is:\", oldest)  \n",
    "print(\"Youngest person is:\", youngest)  \n"
   ]
  },
  {
   "cell_type": "code",
   "execution_count": 2,
   "metadata": {},
   "outputs": [
    {
     "name": "stdout",
     "output_type": "stream",
     "text": [
      "Total bill amount is Rs. 1750\n"
     ]
    }
   ],
   "source": [
    "units = int(input(\"Enter the number of units consumed: \"))  \n",
    "\n",
    "if units <= 100:  \n",
    "    bill = 0  \n",
    "elif units <= 300:  \n",
    "    bill = (units - 100) * 5  \n",
    "else:  \n",
    "    bill = (200 * 5) + (units - 300) * 10 + (100 * 0)  \n",
    "\n",
    "print(\"Total bill amount is Rs.\", bill)  \n"
   ]
  }
 ],
 "metadata": {
  "kernelspec": {
   "display_name": "Python 3",
   "language": "python",
   "name": "python3"
  },
  "language_info": {
   "codemirror_mode": {
    "name": "ipython",
    "version": 3
   },
   "file_extension": ".py",
   "mimetype": "text/x-python",
   "name": "python",
   "nbconvert_exporter": "python",
   "pygments_lexer": "ipython3",
   "version": "3.13.2"
  }
 },
 "nbformat": 4,
 "nbformat_minor": 4
}
