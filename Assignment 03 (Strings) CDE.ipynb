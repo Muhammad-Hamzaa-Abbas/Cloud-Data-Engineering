{
 "cells": [
  {
   "cell_type": "markdown",
   "id": "e7270e6d",
   "metadata": {},
   "source": [
    "**String Assignment\n",
    "1. Write a program that accepts a string from user. Your program should count and display number of vowels in that string.**"
   ]
  },
  {
   "cell_type": "code",
   "execution_count": 9,
   "id": "f97149ab",
   "metadata": {},
   "outputs": [
    {
     "name": "stdout",
     "output_type": "stream",
     "text": [
      "Number of vowels: 2\n"
     ]
    }
   ],
   "source": [
    "string = input(\"Enter a string: \")\n",
    "vowels = \"aeiouAEIOU\"\n",
    "count = sum(1 for char in string if char in vowels)\n",
    "print(\"Number of vowels:\", count)\n"
   ]
  },
  {
   "cell_type": "markdown",
   "id": "fbdb19b9",
   "metadata": {},
   "source": [
    "2. Write a program that reads a string from keyboard and display:\n",
    "* The number of uppercase letters in the string\n",
    "* The number of lowercase letters in the string\n",
    "* The number of digits in the string\n",
    "* The number of whitespace characters in the string**"
   ]
  },
  {
   "cell_type": "code",
   "execution_count": 8,
   "id": "02aeaade",
   "metadata": {},
   "outputs": [
    {
     "name": "stdout",
     "output_type": "stream",
     "text": [
      "Uppercase letters: 1\n",
      "Lowercase letters: 2\n",
      "Digits: 0\n",
      "Whitespace characters: 0\n"
     ]
    }
   ],
   "source": [
    "string = input(\"Enter a string: \")\n",
    "upper_case = sum(1 for char in string if char.isupper())\n",
    "lower_case = sum(1 for char in string if char.islower())\n",
    "digits = sum(1 for char in string if char.isdigit())\n",
    "whitespace = sum(1 for char in string if char.isspace())\n",
    "\n",
    "print(\"Uppercase letters:\", upper_case)\n",
    "print(\"Lowercase letters:\", lower_case)\n",
    "print(\"Digits:\", digits)\n",
    "print(\"Whitespace characters:\", whitespace)\n"
   ]
  },
  {
   "cell_type": "markdown",
   "id": "ba90fb2b",
   "metadata": {},
   "source": [
    "3. Write a Python program that accepts a string from user. Your program should create and display a new string where the first and last characters have been exchanged.**"
   ]
  },
  {
   "cell_type": "code",
   "execution_count": 7,
   "id": "14f6b8d4",
   "metadata": {},
   "outputs": [
    {
     "name": "stdout",
     "output_type": "stream",
     "text": [
      "New string: yi KartH\n"
     ]
    }
   ],
   "source": [
    "string = input(\"Enter a string: \")\n",
    "if len(string) > 1:\n",
    "    new_string = string[-1] + string[1:-1] + string[0]\n",
    "else:\n",
    "    new_string = string\n",
    "\n",
    "print(\"New string:\", new_string)\n"
   ]
  },
  {
   "cell_type": "markdown",
   "id": "dadac7b6",
   "metadata": {},
   "source": [
    "4. Write a Python program that accepts a string from user. Your program should create a new string in reverse of first string and display it.**"
   ]
  },
  {
   "cell_type": "code",
   "execution_count": 6,
   "id": "d9e7cf13",
   "metadata": {},
   "outputs": [
    {
     "name": "stdout",
     "output_type": "stream",
     "text": [
      "Reversed string: gninroM doog\n"
     ]
    }
   ],
   "source": [
    "string = input(\"Enter a string: \")\n",
    "reversed_string = string[::-1]\n",
    "print(\"Reversed string:\", reversed_string)\n"
   ]
  },
  {
   "cell_type": "markdown",
   "id": "0b857217",
   "metadata": {},
   "source": [
    "5. Write a Python program that accepts a string from user. Your program should create a new string by shifting one position to left.**"
   ]
  },
  {
   "cell_type": "code",
   "execution_count": 5,
   "id": "0f357f8a",
   "metadata": {},
   "outputs": [
    {
     "name": "stdout",
     "output_type": "stream",
     "text": [
      "Shifted string: elloH\n"
     ]
    }
   ],
   "source": [
    "string = input(\"Enter a string: \")\n",
    "if len(string) > 1:\n",
    "    shifted_string = string[1:] + string[0]\n",
    "else:\n",
    "    shifted_string = string\n",
    "\n",
    "print(\"Shifted string:\", shifted_string)\n"
   ]
  },
  {
   "cell_type": "markdown",
   "id": "e3bec246",
   "metadata": {},
   "source": [
    "6. Write a program that asks the user to input his name and print its initials. Assuming that the user always types first name, middle name and last name and does not include any unnecessary spaces.**"
   ]
  },
  {
   "cell_type": "code",
   "execution_count": 4,
   "id": "6384a90d",
   "metadata": {},
   "outputs": [
    {
     "name": "stdout",
     "output_type": "stream",
     "text": [
      "Initials: M.H.A.\n"
     ]
    }
   ],
   "source": [
    "name = input(\"Enter your full name: \")\n",
    "initials = \".\".join([word[0].upper() for word in name.split()]) + \".\"\n",
    "print(\"Initials:\", initials)\n"
   ]
  },
  {
   "cell_type": "markdown",
   "id": "111c02b4",
   "metadata": {},
   "source": [
    "7. A palindrome is a string that reads the same backward as forward. For example, the words dad, madam and radar are all palindromes. Write a programs that determines whether the string is a palindrome.**"
   ]
  },
  {
   "cell_type": "code",
   "execution_count": 3,
   "id": "e6c09dd2",
   "metadata": {},
   "outputs": [
    {
     "name": "stdout",
     "output_type": "stream",
     "text": [
      "Palindrome: No\n"
     ]
    }
   ],
   "source": [
    "string = input(\"Enter a string: \")\n",
    "is_palindrome = string == string[::-1]\n",
    "print(\"Palindrome:\", \"Yes\" if is_palindrome else \"No\")\n"
   ]
  },
  {
   "cell_type": "markdown",
   "id": "9f319241",
   "metadata": {},
   "source": [
    "8. Write a program that display following output:\n",
    "SHIFT\n",
    "HIFTS\n",
    "IFTSH\n",
    "FTSHI\n",
    "TSHIF\n",
    "SHIFT**"
   ]
  },
  {
   "cell_type": "code",
   "execution_count": 2,
   "id": "0a39e455",
   "metadata": {},
   "outputs": [
    {
     "name": "stdout",
     "output_type": "stream",
     "text": [
      "SHIFT\n",
      "HIFTS\n",
      "IFTSH\n",
      "FTSHI\n",
      "TSHIF\n"
     ]
    }
   ],
   "source": [
    "word = \"SHIFT\"\n",
    "for i in range(len(word)):\n",
    "    print(word[i:] + word[:i])\n"
   ]
  },
  {
   "cell_type": "markdown",
   "id": "e4f6723a",
   "metadata": {},
   "source": [
    "9. Write a program in python that accepts a string to setup a password. Your entered password must meet the following requirements:\n",
    "- The password must be at least eight characters long.\n",
    "- It must contain at least one uppercase letter.\n",
    "- It must contain at least one lowercase letter.\n",
    "- It must contain at least one numeric digit.**"
   ]
  },
  {
   "cell_type": "code",
   "execution_count": 1,
   "id": "6e8b2130",
   "metadata": {},
   "outputs": [
    {
     "name": "stdout",
     "output_type": "stream",
     "text": [
      "Password is invalid.\n"
     ]
    }
   ],
   "source": [
    "password = input(\"Enter a password: \")\n",
    "\n",
    "if (len(password) >= 8 and any(char.isupper() for char in password) and \n",
    "    any(char.islower() for char in password) and any(char.isdigit() for char in password)):\n",
    "    print(\"Password is valid.\")\n",
    "else:\n",
    "    print(\"Password is invalid.\")\n"
   ]
  }
 ],
 "metadata": {
  "kernelspec": {
   "display_name": "Python 3",
   "language": "python",
   "name": "python3"
  },
  "language_info": {
   "codemirror_mode": {
    "name": "ipython",
    "version": 3
   },
   "file_extension": ".py",
   "mimetype": "text/x-python",
   "name": "python",
   "nbconvert_exporter": "python",
   "pygments_lexer": "ipython3",
   "version": "3.13.2"
  }
 },
 "nbformat": 4,
 "nbformat_minor": 5
}
