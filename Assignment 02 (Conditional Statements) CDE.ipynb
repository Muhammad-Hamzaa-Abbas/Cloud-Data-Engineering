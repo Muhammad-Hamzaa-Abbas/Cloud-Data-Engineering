{
 "cells": [
  {
   "cell_type": "markdown",
   "metadata": {},
   "source": [
    "1) A company decided to give bonus of 5% to employee if his/her year of service is more than 5 years.\n",
    "Ask user for their salary and year of service and print the net bonus amount."
   ]
  },
  {
   "cell_type": "code",
   "execution_count": 1,
   "metadata": {},
   "outputs": [
    {
     "name": "stdout",
     "output_type": "stream",
     "text": [
      "Your bonus amount is: 2500.0\n"
     ]
    }
   ],
   "source": [
    "salary = float(input(\"Enter your salary: \"))  \n",
    "years_of_service = int(input(\"Enter your years of service: \"))  \n",
    "\n",
    "if years_of_service > 5:  \n",
    "    bonus = 0.05 * salary  \n",
    "    print(\"Your bonus amount is:\", bonus)  \n",
    "else:  \n",
    "    print(\"No bonus.\")  \n"
   ]
  },
  {
   "cell_type": "markdown",
   "metadata": {},
   "source": [
    "\n",
    "2) Write a program to check whether a person is eligible for voting or not. (accept age from user) if age is greater than 17 eligible otherwise not eligible"
   ]
  },
  {
   "cell_type": "code",
   "execution_count": 2,
   "metadata": {},
   "outputs": [
    {
     "name": "stdout",
     "output_type": "stream",
     "text": [
      "You are eligible to vote.\n"
     ]
    }
   ],
   "source": [
    "age = int(input(\"Enter your age: \"))  \n",
    "\n",
    "if age > 17:  \n",
    "    print(\"You are eligible to vote.\")  \n",
    "else:  \n",
    "    print(\"You are not eligible to vote.\")  \n"
   ]
  },
  {
   "cell_type": "markdown",
   "metadata": {},
   "source": [
    "\n",
    "3) Write a program to check whether a number entered by user is even or odd."
   ]
  },
  {
   "cell_type": "code",
   "execution_count": 15,
   "metadata": {},
   "outputs": [
    {
     "name": "stdout",
     "output_type": "stream",
     "text": [
      "36 is an even number.\n"
     ]
    }
   ],
   "source": [
    "num = int(input(\"Enter a number: \"))  \n",
    "\n",
    "if num % 2 == 0:  \n",
    "    print(num, \"is an even number.\")  \n",
    "else:  \n",
    "    print(num, \"is an odd number.\")  \n"
   ]
  },
  {
   "cell_type": "markdown",
   "metadata": {},
   "source": [
    "4) Write a program to check whether a number is divisible by 7 or not."
   ]
  },
  {
   "cell_type": "code",
   "execution_count": 14,
   "metadata": {},
   "outputs": [
    {
     "name": "stdout",
     "output_type": "stream",
     "text": [
      "77 is divisible by 7.\n"
     ]
    }
   ],
   "source": [
    "num = int(input(\"Enter a number: \"))  \n",
    "\n",
    "if num % 7 == 0:  \n",
    "    print(num, \"is divisible by 7.\")  \n",
    "else:  \n",
    "    print(num, \"is not divisible by 7.\")  \n"
   ]
  },
  {
   "cell_type": "markdown",
   "metadata": {},
   "source": [
    "5) Write a program to display \"Hello\" if a number entered by user is a multiple of five , otherwise print \"Bye\"."
   ]
  },
  {
   "cell_type": "code",
   "execution_count": 13,
   "metadata": {},
   "outputs": [
    {
     "name": "stdout",
     "output_type": "stream",
     "text": [
      "Bye\n"
     ]
    }
   ],
   "source": [
    "num = int(input(\"Enter a number: \"))  \n",
    "\n",
    "if num % 5 == 0:  \n",
    "    print(\"Hello\")  \n",
    "else:  \n",
    "    print(\"Bye\")  \n"
   ]
  },
  {
   "cell_type": "markdown",
   "metadata": {},
   "source": [
    "7) Write a program to display the last digit of a number.\n"
   ]
  },
  {
   "cell_type": "code",
   "execution_count": 12,
   "metadata": {},
   "outputs": [
    {
     "name": "stdout",
     "output_type": "stream",
     "text": [
      "The last digit is: 4\n"
     ]
    }
   ],
   "source": [
    "num = int(input(\"Enter a number: \"))  \n",
    "\n",
    "last_digit = num % 10  \n",
    "\n",
    "print(\"The last digit is:\", last_digit)  \n"
   ]
  },
  {
   "cell_type": "markdown",
   "metadata": {},
   "source": [
    "9) Take values of length and breadth of a rectangle from user and print if it is square or rectangle."
   ]
  },
  {
   "cell_type": "code",
   "execution_count": 11,
   "metadata": {},
   "outputs": [
    {
     "name": "stdout",
     "output_type": "stream",
     "text": [
      "It is a Square.\n"
     ]
    }
   ],
   "source": [
    "length = float(input(\"Enter length: \"))  \n",
    "breadth = float(input(\"Enter breadth: \"))  \n",
    "\n",
    "if length == breadth:  \n",
    "    print(\"It is a Square.\")  \n",
    "else:  \n",
    "    print(\"It is a Rectangle.\")  \n"
   ]
  },
  {
   "cell_type": "markdown",
   "metadata": {},
   "source": [
    "10) Take two int values from user and print greatest among them."
   ]
  },
  {
   "cell_type": "code",
   "execution_count": 10,
   "metadata": {},
   "outputs": [
    {
     "name": "stdout",
     "output_type": "stream",
     "text": [
      "34 is the greatest.\n"
     ]
    }
   ],
   "source": [
    "num1 = int(input(\"Enter first number: \"))  \n",
    "num2 = int(input(\"Enter second number: \"))  \n",
    "\n",
    "if num1 > num2:  \n",
    "    print(num1, \"is the greatest.\")  \n",
    "elif num2 > num1:  \n",
    "    print(num2, \"is the greatest.\")  \n",
    "else:  \n",
    "    print(\"Both numbers are equal.\")  \n"
   ]
  },
  {
   "cell_type": "markdown",
   "metadata": {},
   "source": [
    "11) A shop will give discount of 10% if the cost of purchased quantity is more than 1000.\n",
    "Ask user for quantity\n",
    "Suppose, one unit will cost 100.\n",
    "Judge and print total cost for user."
   ]
  },
  {
   "cell_type": "code",
   "execution_count": 9,
   "metadata": {},
   "outputs": [
    {
     "name": "stdout",
     "output_type": "stream",
     "text": [
      "Total cost: 4500.0\n"
     ]
    }
   ],
   "source": [
    "quantity = int(input(\"Enter quantity: \"))  \n",
    "\n",
    "cost = quantity * 100  \n",
    "\n",
    "if cost > 1000:  \n",
    "    discount = 0.1 * cost  \n",
    "    cost -= discount  \n",
    "\n",
    "print(\"Total cost:\", cost)  \n"
   ]
  },
  {
   "cell_type": "markdown",
   "metadata": {},
   "source": [
    "12) A school has following rules for grading system:\n",
    "\n",
    "a. Below 25 - F\n",
    "\n",
    "b. 25 to 45 - E\n",
    "\n",
    "c. 45 to 50 - D\n",
    "\n",
    "d. 50 to 60 - C\n",
    "\n",
    "e. 60 to 80 - B\n",
    "\n",
    "f. Above 80 - A\n",
    "\n",
    "Ask user to enter marks and print the corresponding grade."
   ]
  },
  {
   "cell_type": "code",
   "execution_count": 8,
   "metadata": {},
   "outputs": [
    {
     "name": "stdout",
     "output_type": "stream",
     "text": [
      "Your grade is: B\n"
     ]
    }
   ],
   "source": [
    "marks = int(input(\"Enter marks: \"))  \n",
    "\n",
    "if marks < 25:  \n",
    "    grade = \"F\"  \n",
    "elif marks <= 45:  \n",
    "    grade = \"E\"  \n",
    "elif marks <= 50:  \n",
    "    grade = \"D\"  \n",
    "elif marks <= 60:  \n",
    "    grade = \"C\"  \n",
    "elif marks <= 80:  \n",
    "    grade = \"B\"  \n",
    "else:  \n",
    "    grade = \"A\"  \n",
    "\n",
    "print(\"Your grade is:\", grade)  \n"
   ]
  },
  {
   "cell_type": "markdown",
   "metadata": {},
   "source": [
    "14)A student will not be allowed to sit in exam if his/her attendence is less than 75%.\n",
    "\n",
    "Take following input from user\n",
    "\n",
    "Number of classes held\n",
    "\n",
    "Number of classes attended.\n",
    "\n",
    "And print\n",
    "\n",
    "percentage of class attended\n",
    "\n",
    "Is student is allowed to sit in exam or not.\n"
   ]
  },
  {
   "cell_type": "code",
   "execution_count": 7,
   "metadata": {},
   "outputs": [
    {
     "name": "stdout",
     "output_type": "stream",
     "text": [
      "Attendance Percentage: 85.0 %\n",
      "Student is allowed to sit in the exam.\n"
     ]
    }
   ],
   "source": [
    "classes_held = int(input(\"Enter number of classes held: \"))  \n",
    "classes_attended = int(input(\"Enter number of classes attended: \"))  \n",
    "\n",
    "attendance_percentage = (classes_attended / classes_held) * 100  \n",
    "\n",
    "print(\"Attendance Percentage:\", attendance_percentage, \"%\")  \n",
    "\n",
    "if attendance_percentage >= 75:  \n",
    "    print(\"Student is allowed to sit in the exam.\")  \n",
    "else:  \n",
    "    print(\"Student is NOT allowed to sit in the exam.\")  \n"
   ]
  },
  {
   "cell_type": "markdown",
   "metadata": {},
   "source": [
    "15) Modify the above question to allow student to sit if he/she has medical cause. Ask user if he/she has medical cause or not ( 'Y' or 'N' ) and print accordingly."
   ]
  },
  {
   "cell_type": "code",
   "execution_count": 6,
   "metadata": {},
   "outputs": [
    {
     "name": "stdout",
     "output_type": "stream",
     "text": [
      "Attendance Percentage: 93.33333333333333 %\n",
      "Student is allowed to sit in the exam.\n"
     ]
    }
   ],
   "source": [
    "classes_held = int(input(\"Enter number of classes held: \"))  \n",
    "classes_attended = int(input(\"Enter number of classes attended: \"))  \n",
    "\n",
    "attendance_percentage = (classes_attended / classes_held) * 100  \n",
    "\n",
    "print(\"Attendance Percentage:\", attendance_percentage, \"%\")  \n",
    "\n",
    "if attendance_percentage >= 75:  \n",
    "    print(\"Student is allowed to sit in the exam.\")  \n",
    "else:  \n",
    "    medical_cause = input(\"Do you have a medical cause? (Y/N): \").strip().upper()  \n",
    "    if medical_cause == 'Y':  \n",
    "        print(\"Student is allowed to sit in the exam due to medical cause.\")  \n",
    "    else:  \n",
    "        print(\"Student is NOT allowed to sit in the exam.\")  \n"
   ]
  },
  {
   "cell_type": "markdown",
   "metadata": {},
   "source": [
    "16) Write a program to check if a year is leap year or not.\n",
    "\n",
    "If a year is divisible by 4 then it is leap year but if the year is century year like 2000, 1900, 2100 then it must be divisible by 400."
   ]
  },
  {
   "cell_type": "code",
   "execution_count": 5,
   "metadata": {},
   "outputs": [
    {
     "name": "stdout",
     "output_type": "stream",
     "text": [
      "2024 is a leap year.\n"
     ]
    }
   ],
   "source": [
    "year = int(input(\"Enter a year: \"))  \n",
    "\n",
    "if (year % 4 == 0 and year % 100 != 0) or (year % 400 == 0):  \n",
    "    print(year, \"is a leap year.\")  \n",
    "else:  \n",
    "    print(year, \"is not a leap year.\")  \n"
   ]
  },
  {
   "cell_type": "markdown",
   "metadata": {},
   "source": [
    "17) Ask user to enter age, gender ( M or F ), marital status ( Y or N ) and then using following rules print their place of service.\n",
    "\n",
    "if employee is female, then she will work only in urban areas.\n",
    "\n",
    "if employee is a male and age is in between 20 to 40 then he may work in anywhere\n",
    "\n",
    "if employee is male and age is in between 40 t0 60 then he will work in urban areas only.\n",
    "\n",
    "And any other input of age should print \"ERROR\""
   ]
  },
  {
   "cell_type": "code",
   "execution_count": 4,
   "metadata": {},
   "outputs": [
    {
     "name": "stdout",
     "output_type": "stream",
     "text": [
      "He may work anywhere.\n"
     ]
    }
   ],
   "source": [
    "age = int(input(\"Enter age: \"))  \n",
    "gender = input(\"Enter gender (M/F): \").strip().upper()  \n",
    "marital_status = input(\"Enter marital status (Y/N): \").strip().upper()  \n",
    "\n",
    "if gender == 'F':  \n",
    "    print(\"She will work only in urban areas.\")  \n",
    "elif gender == 'M':  \n",
    "    if 20 <= age <= 40:  \n",
    "        print(\"He may work anywhere.\")  \n",
    "    elif 40 < age <= 60:  \n",
    "        print(\"He will work only in urban areas.\")  \n",
    "    else:  \n",
    "        print(\"ERROR\")  \n",
    "else:  \n",
    "    print(\"ERROR\")  \n"
   ]
  },
  {
   "cell_type": "markdown",
   "metadata": {},
   "source": [
    "6) Write a program to calculate the electricity bill (accept number of unit from user) according to the following criteria :\n",
    "     Unit                                                     Price  \n",
    "uptp 100 units                                             no charge\n",
    "Next 200 units                                              Rs 5 per unit\n",
    "After 200 units                                             Rs 10 per unit\n",
    "(For example if input unit is 350 than total bill amount is Rs.3500\n",
    "(For example if input unit is 97 than total bill amount is Rs.0\n",
    "(For example if input unit is 150 than total bill amount is Rs.750"
   ]
  },
  {
   "cell_type": "markdown",
   "metadata": {},
   "source": [
    "13) Take input of age of 3 people by user and determine oldest and youngest among them."
   ]
  },
  {
   "cell_type": "code",
   "execution_count": 3,
   "metadata": {},
   "outputs": [
    {
     "name": "stdout",
     "output_type": "stream",
     "text": [
      "Oldest person is: 5\n",
      "Youngest person is: 2\n"
     ]
    }
   ],
   "source": [
    "age1 = int(input(\"Enter age of first person: \"))  \n",
    "age2 = int(input(\"Enter age of second person: \"))  \n",
    "age3 = int(input(\"Enter age of third person: \"))  \n",
    "\n",
    "oldest = max(age1, age2, age3)  \n",
    "youngest = min(age1, age2, age3)  \n",
    "\n",
    "print(\"Oldest person is:\", oldest)  \n",
    "print(\"Youngest person is:\", youngest)  \n"
   ]
  }
 ],
 "metadata": {
  "kernelspec": {
   "display_name": "Python 3",
   "language": "python",
   "name": "python3"
  },
  "language_info": {
   "codemirror_mode": {
    "name": "ipython",
    "version": 3
   },
   "file_extension": ".py",
   "mimetype": "text/x-python",
   "name": "python",
   "nbconvert_exporter": "python",
   "pygments_lexer": "ipython3",
   "version": "3.13.2"
  }
 },
 "nbformat": 4,
 "nbformat_minor": 2
}
